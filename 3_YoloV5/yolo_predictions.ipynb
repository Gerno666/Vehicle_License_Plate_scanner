{
 "cells": [
  {
   "cell_type": "code",
   "execution_count": 1,
   "id": "5ebabc7a",
   "metadata": {},
   "outputs": [],
   "source": [
    "import cv2\n",
    "import numpy as np\n",
    "import os\n",
    "import pytesseract as pt"
   ]
  },
  {
   "cell_type": "code",
   "execution_count": 11,
   "id": "5b8fddd6",
   "metadata": {},
   "outputs": [],
   "source": [
    "# settings\n",
    "INPUT_WIDTH =  640\n",
    "INPUT_HEIGHT = 640"
   ]
  },
  {
   "cell_type": "code",
   "execution_count": 12,
   "id": "10dba39c",
   "metadata": {},
   "outputs": [],
   "source": [
    "# Immagine\n",
    "img = cv2.imread('./test_images/getty_sample.jpg')\n",
    "\n",
    "cv2.namedWindow('test image',cv2.WINDOW_FULLSCREEN)\n",
    "cv2.imshow('test image',img)\n",
    "cv2.waitKey()\n",
    "cv2.destroyAllWindows()"
   ]
  },
  {
   "cell_type": "code",
   "execution_count": 13,
   "id": "922f0528",
   "metadata": {},
   "outputs": [],
   "source": [
    "# CARICAMENTO YOLO MODEL\n",
    "net = cv2.dnn.readNetFromONNX('./Model/weights/best.onnx')\n",
    "net.setPreferableBackend(cv2.dnn.DNN_BACKEND_OPENCV)\n",
    "net.setPreferableTarget(cv2.dnn.DNN_TARGET_CPU)"
   ]
  },
  {
   "cell_type": "code",
   "execution_count": 14,
   "id": "dd8430da",
   "metadata": {},
   "outputs": [],
   "source": [
    "def get_detections(img,net):\n",
    "    # CONVERTIAMO L'IMMAGINE IN FORMATO YOLO\n",
    "    image = img.copy()\n",
    "    row, col, d = image.shape\n",
    "\n",
    "    max_rc = max(row,col)\n",
    "    input_image = np.zeros((max_rc,max_rc,3),dtype=np.uint8)\n",
    "    input_image[0:row,0:col] = image\n",
    "\n",
    "    # OTTIENIAMO LE PREVISIONI DAL MODELLO YOLO\n",
    "    blob = cv2.dnn.blobFromImage(input_image,1/255,(INPUT_WIDTH,INPUT_HEIGHT),swapRB=True,crop=False)\n",
    "    net.setInput(blob)\n",
    "    preds = net.forward()\n",
    "    detections = preds[0]\n",
    "    \n",
    "    return input_image, detections\n",
    "\n",
    "def non_maximum_supression(input_image,detections):\n",
    "    # RILEVAZIONI BASATE SUL PUNTEGGIO DI AFFIDABILITA E DI PROBABILITÀ\n",
    "    # center x, center y, w , h, conf, proba\n",
    "    boxes = []\n",
    "    confidences = []\n",
    "\n",
    "    image_w, image_h = input_image.shape[:2]\n",
    "    x_factor = image_w/INPUT_WIDTH\n",
    "    y_factor = image_h/INPUT_HEIGHT\n",
    "\n",
    "    for i in range(len(detections)):\n",
    "        row = detections[i]\n",
    "        confidence = row[4] # affidabilità del rilevamento targa\n",
    "        if confidence > 0.4:\n",
    "            class_score = row[5] # punteggio di probabilità della targa\n",
    "            if class_score > 0.25:\n",
    "                cx, cy , w, h = row[0:4]\n",
    "\n",
    "                left = int((cx - 0.5*w)*x_factor)\n",
    "                top = int((cy-0.5*h)*y_factor)\n",
    "                width = int(w*x_factor)\n",
    "                height = int(h*y_factor)\n",
    "                box = np.array([left,top,width,height])\n",
    "\n",
    "                confidences.append(confidence)\n",
    "                boxes.append(box)\n",
    "\n",
    "    # clean\n",
    "    boxes_np = np.array(boxes).tolist()\n",
    "    confidences_np = np.array(confidences).tolist()\n",
    "    # NMS\n",
    "    index = cv2.dnn.NMSBoxes(boxes_np,confidences_np,0.25,0.45).flatten()\n",
    "    \n",
    "    return boxes_np, confidences_np, index\n",
    "\n",
    "def drawings(image,boxes_np,confidences_np,index):\n",
    "    \n",
    "    for ind in index:\n",
    "        x,y,w,h =  boxes_np[ind]\n",
    "        bb_conf = confidences_np[ind]\n",
    "        conf_text = 'plate: {:.0f}%'.format(bb_conf*100)\n",
    "        license_text = extract_text(image,boxes_np[ind])\n",
    "\n",
    "\n",
    "        cv2.rectangle(image,(x,y),(x+w,y+h),(255,0,255),2)\n",
    "        cv2.rectangle(image,(x,y-30),(x+w,y),(255,0,255),-1)\n",
    "        cv2.rectangle(image,(x,y+h),(x+w,y+h+30),(0,0,0),-1)\n",
    "\n",
    "\n",
    "        cv2.putText(image,conf_text,(x,y-10),cv2.FONT_HERSHEY_SIMPLEX,0.7,(255,255,255),1)\n",
    "        cv2.putText(image,license_text,(x,y+h+27),cv2.FONT_HERSHEY_SIMPLEX,0.7,(0,255,0),1)\n",
    "\n",
    "    return image\n",
    "\n",
    "def apply_brightness_contrast(input_img, brightness = 0, contrast = 0):\n",
    "    \n",
    "        if brightness != 0:\n",
    "            if brightness > 0:\n",
    "                shadow = brightness\n",
    "                highlight = 255\n",
    "            else:\n",
    "                shadow = 0\n",
    "                highlight = 255 + brightness\n",
    "            alpha_b = (highlight - shadow)/255\n",
    "            gamma_b = shadow\n",
    "            \n",
    "            buf = cv2.addWeighted(input_img, alpha_b, input_img, 0, gamma_b)\n",
    "        else:\n",
    "            buf = input_img.copy()\n",
    "        \n",
    "        if contrast != 0:\n",
    "            f = 131*(contrast + 127)/(127*(131-contrast))\n",
    "            alpha_c = f\n",
    "            gamma_c = 127*(1-f)\n",
    "            \n",
    "            buf = cv2.addWeighted(buf, alpha_c, buf, 0, gamma_c)\n",
    "\n",
    "        return buf"
   ]
  },
  {
   "cell_type": "code",
   "execution_count": 15,
   "id": "f536e37e",
   "metadata": {},
   "outputs": [],
   "source": [
    "# predictions\n",
    "def yolo_predictions(img,net):\n",
    "    ## step-1: detections\n",
    "    input_image, detections = get_detections(img,net)\n",
    "    ## step-2: NMS\n",
    "    boxes_np, confidences_np, index = non_maximum_supression(input_image, detections)\n",
    "    ## step-3: Drawings\n",
    "    result_img = drawings(img,boxes_np,confidences_np,index)\n",
    "    return result_img"
   ]
  },
  {
   "cell_type": "code",
   "execution_count": 16,
   "id": "7c6cbfd8",
   "metadata": {},
   "outputs": [],
   "source": [
    "def extract_text(image,bbox):\n",
    "    x,y,w,h = bbox\n",
    "    roi = image[y:y+h, x:x+w]\n",
    "    \n",
    "    if 0 in roi.shape:\n",
    "        return ''\n",
    "    \n",
    "    else:\n",
    "        roi_bgr = cv2.cvtColor(roi,cv2.COLOR_RGB2BGR)\n",
    "        cv2.imshow('results',roi_bgr)\n",
    "        gray = cv2.cvtColor(roi_bgr,cv2.COLOR_BGR2GRAY)\n",
    "        magic_color = apply_brightness_contrast(gray,brightness=40,contrast=70)\n",
    "        text = pt.image_to_string(magic_color,lang='eng',config='--psm 6')\n",
    "        text = text.strip()\n",
    "        \n",
    "        return text"
   ]
  },
  {
   "cell_type": "code",
   "execution_count": 17,
   "id": "a4ea6d7c",
   "metadata": {},
   "outputs": [],
   "source": [
    "# test\n",
    "img = cv2.imread('./test_images/getty_sample.jpg')\n",
    "\n",
    "results = yolo_predictions(img,net)"
   ]
  },
  {
   "cell_type": "code",
   "execution_count": 18,
   "id": "ccaf271d",
   "metadata": {},
   "outputs": [],
   "source": [
    "cv2.namedWindow('results',cv2.WINDOW_FULLSCREEN)\n",
    "cv2.imshow('results',results)\n",
    "cv2.waitKey()\n",
    "cv2.destroyAllWindows()"
   ]
  },
  {
   "cell_type": "markdown",
   "id": "d89ed4c5",
   "metadata": {},
   "source": [
    "### Real Time Object Detection"
   ]
  },
  {
   "cell_type": "code",
   "execution_count": null,
   "id": "f24ea4a0",
   "metadata": {},
   "outputs": [],
   "source": [
    "cap = cv2.VideoCapture('./test_images/traffic.mp4')\n",
    "\n",
    "\n",
    "while True:\n",
    "    ret, frame = cap.read()\n",
    "    \n",
    "    if ret == False:\n",
    "        print('unable to read video')\n",
    "        break\n",
    "        \n",
    "    results = yolo_predictions(frame,net)\n",
    "    \n",
    "    cv2.namedWindow('YOLO',cv2.WINDOW_FULLSCREEN)\n",
    "    cv2.imshow('YOLO',results)\n",
    "    if cv2.waitKey(1) == 27:\n",
    "        break\n",
    "        \n",
    "cv2.destroyAllWindows()\n",
    "cap.release()"
   ]
  },
  {
   "cell_type": "code",
   "execution_count": null,
   "id": "48519e2b",
   "metadata": {},
   "outputs": [],
   "source": []
  }
 ],
 "metadata": {
  "kernelspec": {
   "display_name": "Python 3 (ipykernel)",
   "language": "python",
   "name": "python3"
  },
  "language_info": {
   "codemirror_mode": {
    "name": "ipython",
    "version": 3
   },
   "file_extension": ".py",
   "mimetype": "text/x-python",
   "name": "python",
   "nbconvert_exporter": "python",
   "pygments_lexer": "ipython3",
   "version": "3.10.6"
  },
  "vscode": {
   "interpreter": {
    "hash": "aee8b7b246df8f9039afb4144a1f6fd8d2ca17a180786b69acc140d282b71a49"
   }
  }
 },
 "nbformat": 4,
 "nbformat_minor": 5
}
